{
 "cells": [
  {
   "cell_type": "code",
   "execution_count": 2,
   "metadata": {},
   "outputs": [],
   "source": [
    "import pandas as pd\n",
    "import numpy as np\n",
    "df_edu = pd.read_csv('Education.csv')\n",
    "df_edu['Text'] = '<br>Organisation:<br>' + df_edu['Organisation'].astype(str)\\\n",
    "+ '<br>School/sub-org:<br>' + df_edu['school/sub-org'].astype(str)\\\n",
    "+ '<br>Country:<br>' + df_edu['Country'].astype(str)\\\n",
    "+ '<br>Full programme / Module:<br>' + df_edu['Full programme / Module'].astype(str)\\\n",
    "+ '<br>Level:<br>' + df_edu['Level'].astype(str)\\"
   ]
  },
  {
   "cell_type": "code",
   "execution_count": 4,
   "metadata": {},
   "outputs": [
    {
     "data": {
      "text/html": [
       "<iframe id=\"igraph\" scrolling=\"no\" style=\"border:none;\" seamless=\"seamless\" src=\"https://plot.ly/~FLYSTEPHEN/29.embed\" height=\"525px\" width=\"100%\"></iframe>"
      ],
      "text/plain": [
       "<plotly.tools.PlotlyDisplay object>"
      ]
     },
     "execution_count": 4,
     "metadata": {},
     "output_type": "execute_result"
    }
   ],
   "source": [
    "#Use plotly to visualize the map\n",
    "import plotly.plotly as py\n",
    "\n",
    "data = [ dict(\n",
    "        type = 'scattergeo',\n",
    "        locationmode = 'ISO-3',\n",
    "        lon = df_edu['Long'],  #\n",
    "        lat = df_edu['Lat'],  #\n",
    "        text = df_edu['Text'],  #\n",
    "        mode = 'markers',\n",
    "        marker = dict(\n",
    "            size = 8,\n",
    "            opacity = 0.5,\n",
    "            symbol = 'square',\n",
    "        ))]\n",
    "\n",
    "layout = dict(\n",
    "        title = 'Global DJ Education Map<br>Source:\\\n",
    "                <a href=\"https://medium.com/ucd-ischool/where-in-the-world-can-i-study-data-journalism-44c006e55ea5\">\\\n",
    "                UCD iSchool</a>',\n",
    "        colorbar = True,\n",
    "        geo = dict(\n",
    "#             如果想只看usa的state的情况，执行这里的注释\n",
    "#             scope='usa',\n",
    "#             projection=dict( type='albers usa' ),\n",
    "#             showlakes = True,\n",
    "            showland = True,\n",
    "            landcolor = \"rgb(250, 250, 250)\",\n",
    "            subunitcolor = \"rgb(217, 217, 217)\",\n",
    "            countrycolor = \"rgb(217, 217, 217)\",\n",
    "            countrywidth = 0.5,\n",
    "            subunitwidth = 0.5\n",
    "        ),\n",
    "    )\n",
    "\n",
    "fig = dict( data=data, layout=layout )\n",
    "py.iplot( fig, validate=False, filename='Map3: Global DJ Education Map' )"
   ]
  }
 ],
 "metadata": {
  "kernelspec": {
   "display_name": "Python 3",
   "language": "python",
   "name": "python3"
  },
  "language_info": {
   "codemirror_mode": {
    "name": "ipython",
    "version": 3
   },
   "file_extension": ".py",
   "mimetype": "text/x-python",
   "name": "python",
   "nbconvert_exporter": "python",
   "pygments_lexer": "ipython3",
   "version": "3.7.0"
  }
 },
 "nbformat": 4,
 "nbformat_minor": 2
}
