{
 "cells": [
  {
   "cell_type": "code",
   "execution_count": 2,
   "metadata": {},
   "outputs": [],
   "source": [
    "#U.S-Journalism-Employment-Market\n",
    "import plotly.plotly as py\n",
    "import pandas as pd\n",
    "\n",
    "df_selected_jobs = pd.read_csv(\"0 jobs.csv\")\n",
    "list_state_code=[]\n",
    "df_count=pd.read_csv('US-States.csv',index_col='code')\n",
    "for i in df_selected_jobs[\"Location\"]:\n",
    "    try: \n",
    "        list_state_code.append(i.split(', ')[1][:2])\n",
    "    except:\n",
    "        pass\n",
    "\n",
    "for i in range(len(list_state_code)):\n",
    "    list_state_code[i]=list_state_code[i].upper()\n",
    "    if list_state_code[i]=='D.' or list_state_code[i]=='DC':\n",
    "        list_state_code[i]='VA'\n",
    "\n",
    "for i in list_state_code:\n",
    "    df_count.loc[i,'data']=list_state_code.count(i)"
   ]
  },
  {
   "cell_type": "markdown",
   "metadata": {},
   "source": [
    "The 'colorscale' property is a colorscale and may be\n",
    "specified as:\n",
    "- A list of 2-element lists where the first element is the\n",
    "normalized color level value (starting at 0 and ending at 1), \n",
    "and the second item is a valid color string.\n",
    "(e.g. [[0, 'green'], [0.5, 'red'], [1.0, 'rgb(0, 0, 255)']])\n",
    "- One of the following named colorscales:\n",
    "['Greys', 'YlGnBu', 'Greens', 'YlOrRd', 'Bluered', 'RdBu',\n",
    "'Reds', 'Blues', 'Picnic', 'Rainbow', 'Portland', 'Jet',\n",
    "'Hot', 'Blackbody', 'Earth', 'Electric', 'Viridis', 'Cividis']"
   ]
  },
  {
   "cell_type": "code",
   "execution_count": 4,
   "metadata": {},
   "outputs": [
    {
     "data": {
      "text/html": [
       "<iframe id=\"igraph\" scrolling=\"no\" style=\"border:none;\" seamless=\"seamless\" src=\"https://plot.ly/~FLYSTEPHEN/23.embed\" height=\"525px\" width=\"100%\"></iframe>"
      ],
      "text/plain": [
       "<plotly.tools.PlotlyDisplay object>"
      ]
     },
     "execution_count": 4,
     "metadata": {},
     "output_type": "execute_result"
    }
   ],
   "source": [
    "data = [dict(\n",
    "        type='choropleth',\n",
    "        colorscale = [ [0,\"rgb(0, 5, 30)\"],[0.4,\"rgb(20, 50, 130)\"],[0.5,\"rgb(50, 80, 160)\"],\\\n",
    "        [0.6,\"rgb(80, 110, 190)\"],[0.7,\"rgb(110, 140, 220)\"],[0.8,\"rgb(140, 170, 250)\"],\\\n",
    "        [1,\"rgb(250, 250, 250)\"] ],  #The value of 'colorscale' can be changed, see the note above.\n",
    "        autocolorscale = False,\n",
    "        reversescale = True,\n",
    "        locations = list(df_count.index),\n",
    "        z = list(df_count['data']),\n",
    "        locationmode = 'USA-states',\n",
    "        text = list(df_count['state']),\n",
    "        marker = dict(\n",
    "            line = dict (\n",
    "                color = 'rgb(255,255,255)',\n",
    "                width = 2\n",
    "            ) ),\n",
    "        colorbar = dict(\n",
    "            title = \"Job Vacancy\")\n",
    "        ) ]\n",
    "\n",
    "layout = dict(\n",
    "        title = '11/2018 U.S Journalism Employment Market',\n",
    "        geo = dict(\n",
    "            scope='usa',\n",
    "            projection=dict( type='albers usa' ),\n",
    "            showlakes = True,\n",
    "            lakecolor = 'rgb(255, 255, 255)'),\n",
    "             )\n",
    "fig = dict( data=data, layout=layout )\n",
    "py.iplot( fig, filename='U.S-Journalism-Employment-Market' )"
   ]
  }
 ],
 "metadata": {
  "kernelspec": {
   "display_name": "Python 3",
   "language": "python",
   "name": "python3"
  },
  "language_info": {
   "codemirror_mode": {
    "name": "ipython",
    "version": 3
   },
   "file_extension": ".py",
   "mimetype": "text/x-python",
   "name": "python",
   "nbconvert_exporter": "python",
   "pygments_lexer": "ipython3",
   "version": "3.7.0"
  }
 },
 "nbformat": 4,
 "nbformat_minor": 2
}
