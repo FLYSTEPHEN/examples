{
 "cells": [
  {
   "cell_type": "code",
   "execution_count": 2,
   "metadata": {},
   "outputs": [],
   "source": [
    "import pandas as pd\n",
    "\n",
    "df_geo = pd.read_csv('geopy-raw.csv')\n",
    "df_gh = pd.read_csv(\n",
    "    'journalists-data-including-github-contributions.csv'\n",
    ")   #This is journalists' everyday github contributions from 2008\n",
    "\n",
    "df_0d = df_gh.reindex(\n",
    "    ['name','institution','city','github'],axis=1)\n",
    "df_0d['contribution_sum'] = df_gh.iloc[:,4:].aggregate('sum',axis=1).astype(\"int\")"
   ]
  },
  {
   "cell_type": "code",
   "execution_count": 3,
   "metadata": {},
   "outputs": [
    {
     "data": {
      "text/html": [
       "<iframe id=\"igraph\" scrolling=\"no\" style=\"border:none;\" seamless=\"seamless\" src=\"https://plot.ly/~FLYSTEPHEN/19.embed\" height=\"525px\" width=\"100%\"></iframe>"
      ],
      "text/plain": [
       "<plotly.tools.PlotlyDisplay object>"
      ]
     },
     "execution_count": 3,
     "metadata": {},
     "output_type": "execute_result"
    }
   ],
   "source": [
    "#Global Data Journalist Distribution\n",
    "import plotly.plotly as py\n",
    "\n",
    "\n",
    "df_geo['text'] = df_0d['name'].astype(str) + '<br>Institution:' + df_0d['institution'].astype(str) + '<br>City:'\\\n",
    "+ df_0d['city'].astype(str) + '<br>Contribution:' + df_0d['contribution_sum'].astype(str)\n",
    "\n",
    "scl = [ [0,\"rgb(0, 5, 30)\"],[0.6,\"rgb(20, 50, 130)\"],[0.7,\"rgb(50, 80, 160)\"],\\\n",
    "        [0.8,\"rgb(80, 110, 190)\"],[0.9,\"rgb(110, 140, 220)\"],[0.99,\"rgb(140, 170, 250)\"],\\\n",
    "        [1,\"rgb(250, 250, 250)\"] ]\n",
    "\n",
    "data = [ dict(\n",
    "        type = 'scattergeo',\n",
    "        locationmode = 'ISO-3',\n",
    "        lon = df_geo['lon'],  #\n",
    "        lat = df_geo['lat'],  #\n",
    "        text = df_geo['text'],  #\n",
    "        mode = 'markers',\n",
    "        marker = dict(\n",
    "            size = 10,\n",
    "            opacity = 0.9,\n",
    "            reversescale = True,\n",
    "            autocolorscale = False,\n",
    "            symbol = 'square',\n",
    "            line = dict(\n",
    "                width=1,\n",
    "                color='rgba(102, 102, 102)'\n",
    "            ),\n",
    "            colorscale = scl,  #\n",
    "            cmin = 0,\n",
    "            color = df_0d['contribution_sum'],  #\n",
    "            cmax = df_0d['contribution_sum'].max(),  #\n",
    "            colorbar=dict(\n",
    "                title=\"Contribution\"\n",
    "            )\n",
    "        ))]\n",
    "\n",
    "layout = dict(\n",
    "        title = 'Map 1: Global Data Journalist Distribution<br>Source:\\\n",
    "                <a href=\"http://jplusplus.github.io/global-directory/\">\\\n",
    "                Global Data Journalist Directory</a>',\n",
    "        colorbar = True,\n",
    "        geo = dict(\n",
    "#             scope='usa',\n",
    "#             projection=dict( type='albers usa' ),\n",
    "            showland = True,\n",
    "            landcolor = \"rgb(250, 250, 250)\",\n",
    "            subunitcolor = \"rgb(217, 217, 217)\",\n",
    "            countrycolor = \"rgb(217, 217, 217)\",\n",
    "            countrywidth = 0.5,\n",
    "            subunitwidth = 0.5\n",
    "        ),\n",
    "    )\n",
    "\n",
    "fig = dict( data=data, layout=layout )\n",
    "py.iplot( fig, validate=False, filename='Map1*: Global Data Journalist Distribution' )"
   ]
  }
 ],
 "metadata": {
  "kernelspec": {
   "display_name": "Python 3",
   "language": "python",
   "name": "python3"
  },
  "language_info": {
   "codemirror_mode": {
    "name": "ipython",
    "version": 3
   },
   "file_extension": ".py",
   "mimetype": "text/x-python",
   "name": "python",
   "nbconvert_exporter": "python",
   "pygments_lexer": "ipython3",
   "version": "3.7.0"
  }
 },
 "nbformat": 4,
 "nbformat_minor": 2
}
